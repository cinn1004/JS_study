{
  "nbformat": 4,
  "nbformat_minor": 0,
  "metadata": {
    "colab": {
      "name": "2108.ipynb",
      "provenance": [],
      "authorship_tag": "ABX9TyNvEObkbCa++Wj9wk4NVIxM",
      "include_colab_link": true
    },
    "kernelspec": {
      "name": "python3",
      "display_name": "Python 3"
    },
    "language_info": {
      "name": "python"
    }
  },
  "cells": [
    {
      "cell_type": "markdown",
      "metadata": {
        "id": "view-in-github",
        "colab_type": "text"
      },
      "source": [
        "<a href=\"https://colab.research.google.com/github/cinn1004/JS_study/blob/main/2108.ipynb\" target=\"_parent\"><img src=\"https://colab.research.google.com/assets/colab-badge.svg\" alt=\"Open In Colab\"/></a>"
      ]
    },
    {
      "cell_type": "code",
      "execution_count": null,
      "metadata": {
        "id": "fu6Ix0UBdWAM"
      },
      "outputs": [],
      "source": [
        ""
      ]
    },
    {
      "cell_type": "markdown",
      "source": [
        "#문제\n",
        "수를 처리하는 것은 통계학에서 상당히 중요한 일이다. 통계학에서 N개의 수를 대표하는 기본 통계값에는 다음과 같은 것들이 있다. 단, N은 홀수라고 가정하자.\n",
        "\n",
        "#산술평균 : N개의 수들의 합을 N으로 나눈 값\n",
        "중앙값 : N개의 수들을 증가하는 순서로 나열했을 경우 그 중앙에 위치하는 값\n",
        "최빈값 : N개의 수들 중 가장 많이 나타나는 값\n",
        "범위 : N개의 수들 중 최댓값과 최솟값의 차이\n",
        "N개의 수가 주어졌을 때, 네 가지 기본 통계값을 구하는 프로그램을 작성하시오.\n",
        "\n",
        "#입력\n",
        "첫째 줄에 수의 개수 N(1 ≤ N ≤ 500,000)이 주어진다. 단, N은 홀수이다. 그 다음 N개의 줄에는 정수들이 주어진다. 입력되는 정수의 절댓값은 4,000을 넘지 않는다.\n",
        "\n",
        "#출력\n",
        "첫째 줄에는 산술평균을 출력한다. 소수점 이하 첫째 자리에서 반올림한 값을 출력한다.\n",
        "모두 더해서 LEN 값 나누기.\n",
        "\n",
        "\n",
        "둘째 줄에는 중앙값을 출력한다.\n",
        "모든 LEN /2 한 값 -> 짝수면 /2한값 0 1 2 3 4 \n",
        "홀수면 len에서 /2한 값과 +1\n",
        "\n",
        "\n",
        "\n",
        "셋째 줄에는 최빈값을 출력한다. 여러 개 있을 때에는 최빈값 중 두 \n",
        "번째로 작은 값을 출력한다.  \n",
        "최빈값은 각각 카운트 하기. 카운트해서 가장 큰값 max 값 지정. 그 max값이 두개다 ? 그러면 \n",
        "\n",
        "넷째 줄에는 범위를 출력한다.\n",
        "MIN + MAX 값\n",
        "둘중 하나가 음수면 양수로 바궈주기"
      ],
      "metadata": {
        "id": "HRIR0MCldYxh"
      }
    },
    {
      "cell_type": "markdown",
      "source": [
        ""
      ],
      "metadata": {
        "id": "CUE-ZKJ6dY1U"
      }
    },
    {
      "cell_type": "code",
      "source": [
        "n = int(input())\n",
        " \n",
        "li = []\n",
        "for _ in range(n):\n",
        "    li.append(int(input()))\n",
        " \n",
        " \n",
        "print(round(sum(li)//n,1))\n",
        " \n",
        "\n",
        "li.sort()\n",
        "print(li[n//2])\n",
        "\n",
        "number = list(set(li)) \n",
        "max_fre = []\n",
        "max_cnt = 0\n",
        "for i in number:\n",
        "\n",
        "    if max_cnt == li.count(i):\n",
        "        max_fre.append(i)\n",
        "    elif max_cnt < li.count(i):\n",
        "        max_fre = []\n",
        "        max_fre.append(i)\n",
        "        max_cnt = li.count(i)\n",
        "if len(max_fre) > 1: \n",
        "    max_fre.sort()\n",
        "    print(max_fre[1])\n",
        "else:\n",
        "    print(max_fre[0])\n",
        "        \n",
        "\n",
        "print(max(li)-min(li))"
      ],
      "metadata": {
        "colab": {
          "base_uri": "https://localhost:8080/",
          "height": 523
        },
        "id": "D-nJLaVvhdGs",
        "outputId": "105d3640-1266-4b67-a791-baf4dab9290c"
      },
      "execution_count": 5,
      "outputs": [
        {
          "output_type": "stream",
          "name": "stdout",
          "text": [
            "5\n",
            "1\n",
            "3\n",
            "8\n",
            "-2\n",
            "2\n",
            "2.4\n",
            "2.0\n"
          ]
        },
        {
          "output_type": "error",
          "ename": "AttributeError",
          "evalue": "ignored",
          "traceback": [
            "\u001b[0;31m---------------------------------------------------------------------------\u001b[0m",
            "\u001b[0;31mAttributeError\u001b[0m                            Traceback (most recent call last)",
            "\u001b[0;32m<ipython-input-5-6e3d4bee5065>\u001b[0m in \u001b[0;36m<module>\u001b[0;34m()\u001b[0m\n\u001b[1;32m     12\u001b[0m \u001b[0mprint\u001b[0m\u001b[0;34m(\u001b[0m\u001b[0mnp\u001b[0m\u001b[0;34m.\u001b[0m\u001b[0mmedian\u001b[0m\u001b[0;34m(\u001b[0m\u001b[0mN\u001b[0m\u001b[0;34m)\u001b[0m\u001b[0;34m)\u001b[0m\u001b[0;34m\u001b[0m\u001b[0;34m\u001b[0m\u001b[0m\n\u001b[1;32m     13\u001b[0m \u001b[0;34m\u001b[0m\u001b[0m\n\u001b[0;32m---> 14\u001b[0;31m \u001b[0mprint\u001b[0m\u001b[0;34m(\u001b[0m\u001b[0mnp\u001b[0m\u001b[0;34m.\u001b[0m\u001b[0mmode\u001b[0m\u001b[0;34m(\u001b[0m\u001b[0mN\u001b[0m\u001b[0;34m)\u001b[0m\u001b[0;34m)\u001b[0m\u001b[0;34m\u001b[0m\u001b[0;34m\u001b[0m\u001b[0m\n\u001b[0m\u001b[1;32m     15\u001b[0m \u001b[0;34m\u001b[0m\u001b[0m\n\u001b[1;32m     16\u001b[0m \u001b[0;32mif\u001b[0m \u001b[0mmax\u001b[0m\u001b[0;34m(\u001b[0m\u001b[0mN\u001b[0m\u001b[0;34m)\u001b[0m \u001b[0;34m>=\u001b[0m \u001b[0;36m0\u001b[0m \u001b[0;34m:\u001b[0m\u001b[0;34m\u001b[0m\u001b[0;34m\u001b[0m\u001b[0m\n",
            "\u001b[0;32m/usr/local/lib/python3.7/dist-packages/numpy/__init__.py\u001b[0m in \u001b[0;36m__getattr__\u001b[0;34m(attr)\u001b[0m\n\u001b[1;32m    312\u001b[0m \u001b[0;34m\u001b[0m\u001b[0m\n\u001b[1;32m    313\u001b[0m             raise AttributeError(\"module {!r} has no attribute \"\n\u001b[0;32m--> 314\u001b[0;31m                                  \"{!r}\".format(__name__, attr))\n\u001b[0m\u001b[1;32m    315\u001b[0m \u001b[0;34m\u001b[0m\u001b[0m\n\u001b[1;32m    316\u001b[0m         \u001b[0;32mdef\u001b[0m \u001b[0m__dir__\u001b[0m\u001b[0;34m(\u001b[0m\u001b[0;34m)\u001b[0m\u001b[0;34m:\u001b[0m\u001b[0;34m\u001b[0m\u001b[0;34m\u001b[0m\u001b[0m\n",
            "\u001b[0;31mAttributeError\u001b[0m: module 'numpy' has no attribute 'mode'"
          ]
        }
      ]
    }
  ]
}