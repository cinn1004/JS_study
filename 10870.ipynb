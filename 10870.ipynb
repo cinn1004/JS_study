{
  "nbformat": 4,
  "nbformat_minor": 0,
  "metadata": {
    "colab": {
      "name": "10870.ipynb",
      "provenance": [],
      "authorship_tag": "ABX9TyNB2Xdk9O+S3h4nTu003RTQ",
      "include_colab_link": true
    },
    "kernelspec": {
      "name": "python3",
      "display_name": "Python 3"
    },
    "language_info": {
      "name": "python"
    }
  },
  "cells": [
    {
      "cell_type": "markdown",
      "metadata": {
        "id": "view-in-github",
        "colab_type": "text"
      },
      "source": [
        "<a href=\"https://colab.research.google.com/github/cinn1004/JS_study/blob/main/10870.ipynb\" target=\"_parent\"><img src=\"https://colab.research.google.com/assets/colab-badge.svg\" alt=\"Open In Colab\"/></a>"
      ]
    },
    {
      "cell_type": "code",
      "execution_count": 3,
      "metadata": {
        "colab": {
          "base_uri": "https://localhost:8080/"
        },
        "id": "AUO-oUSKxK97",
        "outputId": "0b5d4912-d6f0-4e98-dc33-aeae6009f519"
      },
      "outputs": [
        {
          "output_type": "stream",
          "name": "stdout",
          "text": [
            "10\n",
            "55\n"
          ]
        }
      ],
      "source": [
        "def g (n) :\n",
        "  if n == 0 or n == 1:\n",
        "        return n\n",
        "\n",
        "  else:\n",
        "      return g(n-1) + g(n-2)\n",
        "a = int(input())\n",
        "print(g(a))\n"
      ]
    }
  ]
}